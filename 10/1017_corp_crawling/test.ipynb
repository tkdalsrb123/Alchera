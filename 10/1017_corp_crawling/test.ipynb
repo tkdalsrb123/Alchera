{
 "cells": [
  {
   "cell_type": "code",
   "execution_count": 1,
   "metadata": {},
   "outputs": [],
   "source": [
    "import sys, os\n",
    "from selenium import webdriver\n",
    "from selenium.webdriver.common.by import By\n",
    "import pandas as pd\n",
    "import time\n",
    "from bs4 import BeautifulSoup as bs4\n",
    "import pickle"
   ]
  },
  {
   "cell_type": "code",
   "execution_count": 20,
   "metadata": {},
   "outputs": [],
   "source": [
    "keyword = '무역'\n",
    "link = f'https://www.saramin.co.kr/zf_user/search/recruit?search_area=main&search_done=y&search_optional_item=n&searchType=search&searchword={keyword}&show_applied=&except_read=&ai_head_hunting=&recruitPage=1&recruitSort=relation&recruitPageCount=40&inner_com_type=&company_cd=0%2C1%2C2%2C3%2C4%2C5%2C6%2C7%2C9%2C10&quick_apply='\n",
    "driver = webdriver.Chrome()"
   ]
  },
  {
   "cell_type": "code",
   "execution_count": 17,
   "metadata": {},
   "outputs": [
    {
     "data": {
      "text/plain": [
       "{'https://www.saramin.co.kr/zf_user/company-info/view?csn=L1lmdGtWZ3I4SHlYbHpmb29pL3VQZz09',\n",
       " 'https://www.saramin.co.kr/zf_user/company-info/view?csn=M0dXUTJGdWNhR2Q3TTEzbkxndXRVUT09',\n",
       " 'https://www.saramin.co.kr/zf_user/company-info/view?csn=MDJna2w4TUwxSlF5TFNXaWFkK1gxQT09',\n",
       " 'https://www.saramin.co.kr/zf_user/company-info/view?csn=MDVReVJMVm5MSWhpdm00c3hvUTRZdz09',\n",
       " 'https://www.saramin.co.kr/zf_user/company-info/view?csn=N281STMyNFd2cUN5ZFA4NUNoYjhiUT09',\n",
       " 'https://www.saramin.co.kr/zf_user/company-info/view?csn=NHFwM3RGQVNzbTllYkZ0elVSbGFvUT09',\n",
       " 'https://www.saramin.co.kr/zf_user/company-info/view?csn=ODYxeFh4dVV5S2tZL0tGY0hZTGlmQT09',\n",
       " 'https://www.saramin.co.kr/zf_user/company-info/view?csn=QURDdHFHb282cVIwaXpha29iVW1Jdz09',\n",
       " 'https://www.saramin.co.kr/zf_user/company-info/view?csn=QXZaYzFYL09CNmZRUlFZR3N3cWxaUT09',\n",
       " 'https://www.saramin.co.kr/zf_user/company-info/view?csn=QjdOUzNaeUh6OEIzLy8vMXJwR2tOQT09',\n",
       " 'https://www.saramin.co.kr/zf_user/company-info/view?csn=Qnd4a0lCYWg2VVE1K0xvVlc4UDlTQT09',\n",
       " 'https://www.saramin.co.kr/zf_user/company-info/view?csn=R0JKZ0MxYXUrakdBZ2tsaGlRcHowdz09',\n",
       " 'https://www.saramin.co.kr/zf_user/company-info/view?csn=R0VDOGtmVXpxaCtHOThYT0k1c0NOdz09',\n",
       " 'https://www.saramin.co.kr/zf_user/company-info/view?csn=RDNvenlSTWJLdWpOSVlpSHBPUmp6QT09',\n",
       " 'https://www.saramin.co.kr/zf_user/company-info/view?csn=RnQ0VXNFb1MveHJxMkh3eU8yRGNhdz09',\n",
       " 'https://www.saramin.co.kr/zf_user/company-info/view?csn=SS8rQW95REs4cG1ISnpRVmRtTUpqQT09',\n",
       " 'https://www.saramin.co.kr/zf_user/company-info/view?csn=T0NCc1ZPR0FHbkJqVFNIOGdNa1NJZz09',\n",
       " 'https://www.saramin.co.kr/zf_user/company-info/view?csn=TEdobEZRNkFlQnkrZVhzZUpwVUxOQT09',\n",
       " 'https://www.saramin.co.kr/zf_user/company-info/view?csn=Tk1ZVlQ0ejczb3Z4bmhUcTA1TkhQdz09',\n",
       " 'https://www.saramin.co.kr/zf_user/company-info/view?csn=TkJqQ1RSQkl4ZjZpa3JpczNZK1NEQT09',\n",
       " 'https://www.saramin.co.kr/zf_user/company-info/view?csn=VzNlV2xNaEdYVjRETUdQZlZOUEJPdz09',\n",
       " 'https://www.saramin.co.kr/zf_user/company-info/view?csn=WFFxTytJVkxTcEpOenpmM2Nac0xtZz09',\n",
       " 'https://www.saramin.co.kr/zf_user/company-info/view?csn=WGZiS0szM0ViOVdLSmQ2dTBPanJ1QT09',\n",
       " 'https://www.saramin.co.kr/zf_user/company-info/view?csn=YTJZWTQ1M0pweVM0Sll6VkdDY0lWZz09',\n",
       " 'https://www.saramin.co.kr/zf_user/company-info/view?csn=Z05MbmdDeXdrV2dGSkpESGplYVRPZz09',\n",
       " 'https://www.saramin.co.kr/zf_user/company-info/view?csn=ZTdTREZUSTM5OXcyc0dyb3hSM1NJZz09',\n",
       " 'https://www.saramin.co.kr/zf_user/company-info/view?csn=ZTlLUFRZT1NBS0pmKzNFZ2pNc0tMdz09',\n",
       " 'https://www.saramin.co.kr/zf_user/company-info/view?csn=a0k1bDhVVU8rKzJSS2hLWm43dnphUT09',\n",
       " 'https://www.saramin.co.kr/zf_user/company-info/view?csn=bFh0SG5MbXRoejQvZXJJWVllajgxQT09',\n",
       " 'https://www.saramin.co.kr/zf_user/company-info/view?csn=bGREejZmcFlqRkRCZnlKaEpoZDN1UT09',\n",
       " 'https://www.saramin.co.kr/zf_user/company-info/view?csn=cGFGWmthWjg3a1UwU1BKSnUwZEpYdz09',\n",
       " 'https://www.saramin.co.kr/zf_user/company-info/view?csn=cnJyTjVJNStIMGIrbHZqSDlvR2FMdz09',\n",
       " 'https://www.saramin.co.kr/zf_user/company-info/view?csn=d3JpN0g2bTlkbzhiT2VOdmg5MHhYUT09',\n",
       " 'https://www.saramin.co.kr/zf_user/company-info/view?csn=dFR2Z29PZHRuY3dpTVErRVY5NzBRUT09',\n",
       " 'https://www.saramin.co.kr/zf_user/company-info/view?csn=dUdhNFpCK3VQY25ZbXhUeGVzZVJ5UT09',\n",
       " 'https://www.saramin.co.kr/zf_user/company-info/view?csn=empFTE1xQzhGcitncHBiUDE3Y0g5Zz09'}"
      ]
     },
     "execution_count": 17,
     "metadata": {},
     "output_type": "execute_result"
    }
   ],
   "source": [
    "driver.get(link)\n",
    "\n",
    "corp_name = driver.find_element(By.CLASS_NAME, 'content').find_elements(By.CLASS_NAME, 'corp_name')\n",
    "corp_list = set([name.find_element(By.TAG_NAME, 'a').get_attribute('href') for name in corp_name])\n",
    "corp_list"
   ]
  },
  {
   "cell_type": "code",
   "execution_count": 21,
   "metadata": {},
   "outputs": [],
   "source": [
    "corp_link = \"https://www.saramin.co.kr/zf_user/company-info/view?csn=Wm5sVDd5dlZoQktsUHd1Y0IxYk85UT09\"\n",
    "\n",
    "driver.get(corp_link)"
   ]
  },
  {
   "cell_type": "code",
   "execution_count": 45,
   "metadata": {},
   "outputs": [
    {
     "name": "stdout",
     "output_type": "stream",
     "text": [
      "(주)키스템프그룹 중소기업 http://www.kistemp.co.kr\n"
     ]
    }
   ],
   "source": [
    "h1 = driver.find_element(By.TAG_NAME, 'h1')\n",
    "corp_name = h1.find_element(By.CLASS_NAME, 'name').text\n",
    "summary = driver.find_element(By.CLASS_NAME, 'summary')\n",
    "li = summary.find_elements(By.TAG_NAME, 'li')\n",
    "info = driver.find_element(By.CLASS_NAME, 'info')\n",
    "info_text = info.text.split('\\n')\n",
    "corp_type = None\n",
    "homepage = None\n",
    "for l in li:\n",
    "    if '기업형태' in l.text.split('\\n'):\n",
    "        corp_type = l.text.split('\\n')[0]\n",
    "for idx, i in enumerate(info_text):\n",
    "    if '홈페이지' == i:\n",
    "        homepage = info_text[idx+1]\n",
    "\n",
    "print(corp_name, corp_type, homepage)"
   ]
  },
  {
   "cell_type": "code",
   "execution_count": null,
   "metadata": {},
   "outputs": [],
   "source": []
  }
 ],
 "metadata": {
  "kernelspec": {
   "display_name": "Python 3",
   "language": "python",
   "name": "python3"
  },
  "language_info": {
   "codemirror_mode": {
    "name": "ipython",
    "version": 3
   },
   "file_extension": ".py",
   "mimetype": "text/x-python",
   "name": "python",
   "nbconvert_exporter": "python",
   "pygments_lexer": "ipython3",
   "version": "3.11.3"
  }
 },
 "nbformat": 4,
 "nbformat_minor": 2
}
