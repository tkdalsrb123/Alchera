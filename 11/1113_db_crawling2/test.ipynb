{
 "cells": [
  {
   "cell_type": "code",
   "execution_count": 16,
   "metadata": {},
   "outputs": [],
   "source": [
    "from selenium import webdriver\n",
    "from selenium.webdriver.common.by import By\n",
    "import urllib"
   ]
  },
  {
   "cell_type": "code",
   "execution_count": 17,
   "metadata": {},
   "outputs": [],
   "source": [
    "link = \"https://kostat.go.kr/gallery.es?mid=a70302010100&bid=11987&ref_bid=11987,12315,11988\"\n",
    "driver = webdriver.Chrome()\n",
    "driver.get(link)"
   ]
  },
  {
   "cell_type": "code",
   "execution_count": 24,
   "metadata": {},
   "outputs": [
    {
     "name": "stdout",
     "output_type": "stream",
     "text": [
      "https://kostat.go.kr/galleryThumbView.es?bid=11987&list_no=424117\n",
      "https://kostat.go.kr/galleryThumbView.es?bid=12315&list_no=424137\n",
      "https://kostat.go.kr/galleryThumbView.es?bid=11987&list_no=424110\n",
      "https://kostat.go.kr/galleryThumbView.es?bid=11987&list_no=424078\n",
      "https://kostat.go.kr/galleryThumbView.es?bid=11987&list_no=424066\n",
      "https://kostat.go.kr/galleryThumbView.es?bid=11987&list_no=424065\n",
      "https://kostat.go.kr/galleryThumbView.es?bid=11987&list_no=424042\n",
      "https://kostat.go.kr/galleryThumbView.es?bid=11987&list_no=424038\n",
      "https://kostat.go.kr/galleryThumbView.es?bid=11987&list_no=423985\n",
      "https://kostat.go.kr/galleryThumbView.es?bid=11987&list_no=423947\n",
      "https://kostat.go.kr/galleryThumbView.es?bid=11987&list_no=423936\n",
      "https://kostat.go.kr/galleryThumbView.es?bid=11988&list_no=423835\n"
     ]
    }
   ],
   "source": [
    "img_list = driver.find_element(By.XPATH, '//div[@class=\"gallery_list_01 mg_t8 info_gallery\"]').find_elements(By.XPATH, '//div[@class=\"gl_thumb\"]')\n",
    "for img in img_list:\n",
    "    i = img.find_element(By.TAG_NAME, 'img')\n",
    "    src = i.get_attribute('src')\n",
    "    "
   ]
  },
  {
   "cell_type": "code",
   "execution_count": 14,
   "metadata": {},
   "outputs": [
    {
     "name": "stdout",
     "output_type": "stream",
     "text": [
      "None\n"
     ]
    },
    {
     "name": "stderr",
     "output_type": "stream",
     "text": [
      "Traceback (most recent call last):\n",
      "  File \"c:\\Users\\Alchera115\\AppData\\Local\\Programs\\Python\\Python311\\Lib\\site-packages\\dload\\__init__.py\", line 72, in save\n",
      "    c_path = os.path.dirname(namespace['__file__'])\n",
      "                             ~~~~~~~~~^^^^^^^^^^^^\n",
      "KeyError: '__file__'\n"
     ]
    },
    {
     "data": {
      "text/plain": [
       "''"
      ]
     },
     "execution_count": 14,
     "metadata": {},
     "output_type": "execute_result"
    }
   ],
   "source": [
    "output_img = r\"C:\\Users\\Alchera115\\wj.alchera\\Alchera_data\\11\\1113_db_crawling2\\save\\test.jpg\""
   ]
  },
  {
   "cell_type": "code",
   "execution_count": 15,
   "metadata": {},
   "outputs": [
    {
     "data": {
      "text/plain": [
       "('C:\\\\Users\\\\Alchera115\\\\wj.alchera\\\\Alchera_data\\\\11\\\\1113_db_crawling2\\\\save\\\\test.jpg',\n",
       " <http.client.HTTPMessage at 0x1673653ba90>)"
      ]
     },
     "execution_count": 15,
     "metadata": {},
     "output_type": "execute_result"
    }
   ],
   "source": [
    "urllib.request.urlretrieve(link, output_img)"
   ]
  },
  {
   "cell_type": "code",
   "execution_count": 25,
   "metadata": {},
   "outputs": [
    {
     "ename": "NoSuchWindowException",
     "evalue": "Message: no such window: target window already closed\nfrom unknown error: web view not found\n  (Session info: chrome=119.0.6045.106)\nStacktrace:\n\tGetHandleVerifier [0x00007FF625CE82B2+55298]\n\t(No symbol) [0x00007FF625C55E02]\n\t(No symbol) [0x00007FF625B105AB]\n\t(No symbol) [0x00007FF625AF0038]\n\t(No symbol) [0x00007FF625B76BC7]\n\t(No symbol) [0x00007FF625B8A15F]\n\t(No symbol) [0x00007FF625B71E83]\n\t(No symbol) [0x00007FF625B4670A]\n\t(No symbol) [0x00007FF625B47964]\n\tGetHandleVerifier [0x00007FF626060AAB+3694587]\n\tGetHandleVerifier [0x00007FF6260B728E+4048862]\n\tGetHandleVerifier [0x00007FF6260AF173+4015811]\n\tGetHandleVerifier [0x00007FF625D847D6+695590]\n\t(No symbol) [0x00007FF625C60CE8]\n\t(No symbol) [0x00007FF625C5CF34]\n\t(No symbol) [0x00007FF625C5D062]\n\t(No symbol) [0x00007FF625C4D3A3]\n\tBaseThreadInitThunk [0x00007FFE596C257D+29]\n\tRtlUserThreadStart [0x00007FFE5B32AA78+40]\n",
     "output_type": "error",
     "traceback": [
      "\u001b[1;31m---------------------------------------------------------------------------\u001b[0m",
      "\u001b[1;31mNoSuchWindowException\u001b[0m                     Traceback (most recent call last)",
      "\u001b[1;32mc:\\Users\\Alchera115\\wj.alchera\\Alchera\\Alchera\\11\\1113_db_crawling2\\test.ipynb Cell 6\u001b[0m line \u001b[0;36m5\n\u001b[0;32m      <a href='vscode-notebook-cell:/c%3A/Users/Alchera115/wj.alchera/Alchera/Alchera/11/1113_db_crawling2/test.ipynb#W5sZmlsZQ%3D%3D?line=2'>3</a>\u001b[0m \u001b[39mif\u001b[39;00m page_len \u001b[39m>\u001b[39m \u001b[39m11\u001b[39m:\n\u001b[0;32m      <a href='vscode-notebook-cell:/c%3A/Users/Alchera115/wj.alchera/Alchera/Alchera/11/1113_db_crawling2/test.ipynb#W5sZmlsZQ%3D%3D?line=3'>4</a>\u001b[0m     \u001b[39mfor\u001b[39;00m i \u001b[39min\u001b[39;00m \u001b[39mrange\u001b[39m(\u001b[39m2\u001b[39m, \u001b[39m12\u001b[39m):\n\u001b[1;32m----> <a href='vscode-notebook-cell:/c%3A/Users/Alchera115/wj.alchera/Alchera/Alchera/11/1113_db_crawling2/test.ipynb#W5sZmlsZQ%3D%3D?line=4'>5</a>\u001b[0m         pagination \u001b[39m=\u001b[39m driver\u001b[39m.\u001b[39;49mfind_element(By\u001b[39m.\u001b[39;49mXPATH, \u001b[39m'\u001b[39;49m\u001b[39m//div[@class=\u001b[39;49m\u001b[39m\"\u001b[39;49m\u001b[39mpaging mg_t24\u001b[39;49m\u001b[39m\"\u001b[39;49m\u001b[39m]\u001b[39;49m\u001b[39m'\u001b[39;49m)\u001b[39m.\u001b[39mfind_elements(By\u001b[39m.\u001b[39mTAG_NAME, \u001b[39m'\u001b[39m\u001b[39ma\u001b[39m\u001b[39m'\u001b[39m)\n\u001b[0;32m      <a href='vscode-notebook-cell:/c%3A/Users/Alchera115/wj.alchera/Alchera/Alchera/11/1113_db_crawling2/test.ipynb#W5sZmlsZQ%3D%3D?line=5'>6</a>\u001b[0m         pagination[i]\u001b[39m.\u001b[39mclick()\n\u001b[0;32m      <a href='vscode-notebook-cell:/c%3A/Users/Alchera115/wj.alchera/Alchera/Alchera/11/1113_db_crawling2/test.ipynb#W5sZmlsZQ%3D%3D?line=7'>8</a>\u001b[0m \u001b[39melif\u001b[39;00m page_len \u001b[39m==\u001b[39m \u001b[39m11\u001b[39m:\n",
      "File \u001b[1;32mc:\\Users\\Alchera115\\AppData\\Local\\Programs\\Python\\Python311\\Lib\\site-packages\\selenium\\webdriver\\remote\\webdriver.py:739\u001b[0m, in \u001b[0;36mWebDriver.find_element\u001b[1;34m(self, by, value)\u001b[0m\n\u001b[0;32m    736\u001b[0m     by \u001b[39m=\u001b[39m By\u001b[39m.\u001b[39mCSS_SELECTOR\n\u001b[0;32m    737\u001b[0m     value \u001b[39m=\u001b[39m \u001b[39mf\u001b[39m\u001b[39m'\u001b[39m\u001b[39m[name=\u001b[39m\u001b[39m\"\u001b[39m\u001b[39m{\u001b[39;00mvalue\u001b[39m}\u001b[39;00m\u001b[39m\"\u001b[39m\u001b[39m]\u001b[39m\u001b[39m'\u001b[39m\n\u001b[1;32m--> 739\u001b[0m \u001b[39mreturn\u001b[39;00m \u001b[39mself\u001b[39;49m\u001b[39m.\u001b[39;49mexecute(Command\u001b[39m.\u001b[39;49mFIND_ELEMENT, {\u001b[39m\"\u001b[39;49m\u001b[39musing\u001b[39;49m\u001b[39m\"\u001b[39;49m: by, \u001b[39m\"\u001b[39;49m\u001b[39mvalue\u001b[39;49m\u001b[39m\"\u001b[39;49m: value})[\u001b[39m\"\u001b[39m\u001b[39mvalue\u001b[39m\u001b[39m\"\u001b[39m]\n",
      "File \u001b[1;32mc:\\Users\\Alchera115\\AppData\\Local\\Programs\\Python\\Python311\\Lib\\site-packages\\selenium\\webdriver\\remote\\webdriver.py:345\u001b[0m, in \u001b[0;36mWebDriver.execute\u001b[1;34m(self, driver_command, params)\u001b[0m\n\u001b[0;32m    343\u001b[0m response \u001b[39m=\u001b[39m \u001b[39mself\u001b[39m\u001b[39m.\u001b[39mcommand_executor\u001b[39m.\u001b[39mexecute(driver_command, params)\n\u001b[0;32m    344\u001b[0m \u001b[39mif\u001b[39;00m response:\n\u001b[1;32m--> 345\u001b[0m     \u001b[39mself\u001b[39;49m\u001b[39m.\u001b[39;49merror_handler\u001b[39m.\u001b[39;49mcheck_response(response)\n\u001b[0;32m    346\u001b[0m     response[\u001b[39m\"\u001b[39m\u001b[39mvalue\u001b[39m\u001b[39m\"\u001b[39m] \u001b[39m=\u001b[39m \u001b[39mself\u001b[39m\u001b[39m.\u001b[39m_unwrap_value(response\u001b[39m.\u001b[39mget(\u001b[39m\"\u001b[39m\u001b[39mvalue\u001b[39m\u001b[39m\"\u001b[39m, \u001b[39mNone\u001b[39;00m))\n\u001b[0;32m    347\u001b[0m     \u001b[39mreturn\u001b[39;00m response\n",
      "File \u001b[1;32mc:\\Users\\Alchera115\\AppData\\Local\\Programs\\Python\\Python311\\Lib\\site-packages\\selenium\\webdriver\\remote\\errorhandler.py:229\u001b[0m, in \u001b[0;36mErrorHandler.check_response\u001b[1;34m(self, response)\u001b[0m\n\u001b[0;32m    227\u001b[0m         alert_text \u001b[39m=\u001b[39m value[\u001b[39m\"\u001b[39m\u001b[39malert\u001b[39m\u001b[39m\"\u001b[39m]\u001b[39m.\u001b[39mget(\u001b[39m\"\u001b[39m\u001b[39mtext\u001b[39m\u001b[39m\"\u001b[39m)\n\u001b[0;32m    228\u001b[0m     \u001b[39mraise\u001b[39;00m exception_class(message, screen, stacktrace, alert_text)  \u001b[39m# type: ignore[call-arg]  # mypy is not smart enough here\u001b[39;00m\n\u001b[1;32m--> 229\u001b[0m \u001b[39mraise\u001b[39;00m exception_class(message, screen, stacktrace)\n",
      "\u001b[1;31mNoSuchWindowException\u001b[0m: Message: no such window: target window already closed\nfrom unknown error: web view not found\n  (Session info: chrome=119.0.6045.106)\nStacktrace:\n\tGetHandleVerifier [0x00007FF625CE82B2+55298]\n\t(No symbol) [0x00007FF625C55E02]\n\t(No symbol) [0x00007FF625B105AB]\n\t(No symbol) [0x00007FF625AF0038]\n\t(No symbol) [0x00007FF625B76BC7]\n\t(No symbol) [0x00007FF625B8A15F]\n\t(No symbol) [0x00007FF625B71E83]\n\t(No symbol) [0x00007FF625B4670A]\n\t(No symbol) [0x00007FF625B47964]\n\tGetHandleVerifier [0x00007FF626060AAB+3694587]\n\tGetHandleVerifier [0x00007FF6260B728E+4048862]\n\tGetHandleVerifier [0x00007FF6260AF173+4015811]\n\tGetHandleVerifier [0x00007FF625D847D6+695590]\n\t(No symbol) [0x00007FF625C60CE8]\n\t(No symbol) [0x00007FF625C5CF34]\n\t(No symbol) [0x00007FF625C5D062]\n\t(No symbol) [0x00007FF625C4D3A3]\n\tBaseThreadInitThunk [0x00007FFE596C257D+29]\n\tRtlUserThreadStart [0x00007FFE5B32AA78+40]\n"
     ]
    }
   ],
   "source": [
    "while True:\n",
    "    page_len = len(driver.find_element(By.XPATH, '//div[@class=\"paging mg_t24\"]').find_elements(By.TAG_NAME, 'a'))\n",
    "    if page_len > 11:\n",
    "        for i in range(2, 12):\n",
    "            pagination = driver.find_element(By.XPATH, '//div[@class=\"paging mg_t24\"]').find_elements(By.TAG_NAME, 'a')\n",
    "            pagination[i].click()\n",
    "            \n",
    "    elif page_len == 11:\n",
    "        for i in range(10):\n",
    "            pagination = driver.find_element(By.XPATH, '//div[@class=\"paging mg_t24\"]').find_elements(By.TAG_NAME, 'a')\n",
    "            pagination[i].click()\n",
    "\n",
    "    elif page_len < 11:\n",
    "        break\n",
    "    "
   ]
  },
  {
   "cell_type": "code",
   "execution_count": 50,
   "metadata": {},
   "outputs": [],
   "source": [
    "link = \"https://www.kordi.or.kr/content.do?page=1&sf_category=N107_1&cmsId=173\"\n",
    "options = webdriver.ChromeOptions()\n",
    "options.add_experimental_option('prefs', {\n",
    "\"download.default_directory\": r\"C:\\Users\\Alchera115\\wj.alchera\\Alchera_data\\11\\1113_db_crawling2\\save_old\", #Change default directory for downloads\n",
    "\"download.prompt_for_download\": False, #To auto download the file\n",
    "\"download.directory_upgrade\": True,\n",
    "\"plugins.always_open_pdf_externally\": True #It will not show PDF directly in chrome\n",
    "})\n",
    "driver = webdriver.Chrome(options=options)\n",
    "driver.get(link)"
   ]
  },
  {
   "cell_type": "code",
   "execution_count": 63,
   "metadata": {},
   "outputs": [
    {
     "data": {
      "text/plain": [
       "[]"
      ]
     },
     "execution_count": 63,
     "metadata": {},
     "output_type": "execute_result"
    }
   ],
   "source": [
    "href_list = driver.find_element(By.TAG_NAME, 'tbody').find_elements(By.TAG_NAME, 'a')\n",
    "href_list = [href.get_attribute('href') for href in href_list]\n",
    "href_list"
   ]
  },
  {
   "cell_type": "code",
   "execution_count": 62,
   "metadata": {},
   "outputs": [],
   "source": [
    "a = driver.find_element(By.XPATH, '//*[@id=\"sub_contents\"]/article/table/tbody/tr[4]/td').find_elements(By.TAG_NAME, 'a')\n",
    "for i in a:\n",
    "    print(i.get_attribute('href'))\n"
   ]
  },
  {
   "cell_type": "code",
   "execution_count": 33,
   "metadata": {},
   "outputs": [],
   "source": [
    "driver.get(b)"
   ]
  },
  {
   "cell_type": "code",
   "execution_count": null,
   "metadata": {},
   "outputs": [],
   "source": []
  },
  {
   "cell_type": "code",
   "execution_count": null,
   "metadata": {},
   "outputs": [],
   "source": []
  }
 ],
 "metadata": {
  "kernelspec": {
   "display_name": "Python 3",
   "language": "python",
   "name": "python3"
  },
  "language_info": {
   "codemirror_mode": {
    "name": "ipython",
    "version": 3
   },
   "file_extension": ".py",
   "mimetype": "text/x-python",
   "name": "python",
   "nbconvert_exporter": "python",
   "pygments_lexer": "ipython3",
   "version": "3.11.3"
  }
 },
 "nbformat": 4,
 "nbformat_minor": 2
}
