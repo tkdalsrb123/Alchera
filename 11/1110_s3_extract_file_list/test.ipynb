{
 "cells": [
  {
   "cell_type": "code",
   "execution_count": 1,
   "metadata": {},
   "outputs": [],
   "source": [
    "import sys\n",
    "import time\n",
    "from selenium import webdriver\n",
    "from selenium.webdriver.common.by import By\n",
    "from selenium.webdriver.common.keys import Keys"
   ]
  },
  {
   "cell_type": "code",
   "execution_count": 2,
   "metadata": {},
   "outputs": [],
   "source": [
    "LOGIN_URL = 'https://s3.console.aws.amazon.com/s3/buckets/alchera-label-socket?region=ap-northeast-2&tab=objects'\n",
    "USERID =  'baithings'\n",
    "USERNAME = 's3_worker'\n",
    "PASSWORD =  '78ryL8#q'\n",
    "BUCKET = '20231022'\n",
    "\n",
    "driver = webdriver.Chrome()\n",
    "driver.get(LOGIN_URL)\n",
    "\n",
    "IAM_button = driver.find_element(By.XPATH, \"//input[@id='iam_user_radio_button']\")\n",
    "IAM_button.click()\n",
    "\n",
    "# login s3\n",
    "id = driver.find_element(By.XPATH, \"//input[@id='resolving_input']\")\n",
    "next_button = driver.find_element(By.XPATH, \"//button[@id='next_button']\")\n",
    "id.send_keys(USERID)\n",
    "next_button.click()\n",
    "name = driver.find_element(By.XPATH, \"//input[@id='username']\")\n",
    "pw = driver.find_element(By.XPATH, \"//input[@id='password']\")\n",
    "name.send_keys(USERNAME)\n",
    "pw.send_keys(PASSWORD)\n",
    "pw.send_keys(Keys.RETURN)"
   ]
  },
  {
   "cell_type": "code",
   "execution_count": 41,
   "metadata": {},
   "outputs": [],
   "source": [
    "# get bucket link\n",
    "time.sleep(3)\n",
    "bucket_input = driver.find_element(By.XPATH, '//input[@id=\"polaris-table-formfield-filter\"]')\n",
    "bucket_input.send_keys(BUCKET)\n",
    "bucket_input.send_keys(Keys.RETURN)\n",
    "time.sleep(1)"
   ]
  },
  {
   "cell_type": "code",
   "execution_count": 42,
   "metadata": {},
   "outputs": [
    {
     "name": "stdout",
     "output_type": "stream",
     "text": [
      "398\n"
     ]
    }
   ],
   "source": [
    "object_links_list = []\n",
    "while True:\n",
    "    page_next_button = driver.find_element(By.XPATH, '//button[@aria-label=\"다음 페이지\"]') \n",
    "    object_links = driver.find_element(By.XPATH, '//span[@class=\"object-link\"]').find_elements(By.XPATH, '//span[@class=\"name folder latest object-name\"]')\n",
    "    [object_links_list.append(obj_link.text) for obj_link in object_links]\n",
    "    \n",
    "    if page_next_button.is_enabled() == True:\n",
    "        page_next_button.click()\n",
    "    elif page_next_button.is_enabled() == False:\n",
    "        break\n",
    "print(len(object_links_list))"
   ]
  },
  {
   "cell_type": "code",
   "execution_count": 6,
   "metadata": {},
   "outputs": [
    {
     "data": {
      "text/plain": [
       "300"
      ]
     },
     "execution_count": 6,
     "metadata": {},
     "output_type": "execute_result"
    }
   ],
   "source": []
  },
  {
   "cell_type": "code",
   "execution_count": null,
   "metadata": {},
   "outputs": [],
   "source": []
  }
 ],
 "metadata": {
  "kernelspec": {
   "display_name": "Python 3",
   "language": "python",
   "name": "python3"
  },
  "language_info": {
   "codemirror_mode": {
    "name": "ipython",
    "version": 3
   },
   "file_extension": ".py",
   "mimetype": "text/x-python",
   "name": "python",
   "nbconvert_exporter": "python",
   "pygments_lexer": "ipython3",
   "version": "3.11.3"
  }
 },
 "nbformat": 4,
 "nbformat_minor": 2
}
