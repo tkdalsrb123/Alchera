{
 "cells": [
  {
   "cell_type": "code",
   "execution_count": 39,
   "metadata": {},
   "outputs": [],
   "source": [
    "from selenium import webdriver\n",
    "from selenium.webdriver.common.by import By"
   ]
  },
  {
   "cell_type": "code",
   "execution_count": 58,
   "metadata": {},
   "outputs": [],
   "source": [
    "link = \"https://kostat.go.kr/board.es?mid=a10301010000&bid=a103010100&ref_bid=203,204,205,206,207,210,211,11109,11113,11814,213,215,214,11860,11695,216,218,219,220,10820,11815,11895,11816,208,245,222,223,225,226,227,228,229,230,11321,232,233,234,12029,10920,11469,11470,11817,236,237,11471,238,240,241,11865,243,244,11893,11898,12031,11825,246\"\n",
    "\n",
    "driver = webdriver.Chrome()\n",
    "driver.get(link)\n",
    "# driver.find_element(By.XPATH, '//*[@id=\"content\"]/div[1]/div[1]/div/ul/li[4]/a').click()"
   ]
  },
  {
   "cell_type": "code",
   "execution_count": 9,
   "metadata": {},
   "outputs": [
    {
     "data": {
      "text/plain": [
       "11"
      ]
     },
     "execution_count": 9,
     "metadata": {},
     "output_type": "execute_result"
    }
   ],
   "source": [
    "pdf_link_list = driver.find_element(By.XPATH, '//div[@class=\"board_list_01 mg_t8\"]').find_elements(By.CLASS_NAME, 'bf_pdf')\n"
   ]
  },
  {
   "cell_type": "code",
   "execution_count": 11,
   "metadata": {},
   "outputs": [
    {
     "name": "stdout",
     "output_type": "stream",
     "text": [
      "https://kostat.go.kr/boardDownload.es?bid=219&list_no=427913&seq=2\n",
      "https://kostat.go.kr/boardDownload.es?bid=241&list_no=427828&seq=1\n",
      "https://kostat.go.kr/boardDownload.es?bid=213&list_no=427792&seq=2\n",
      "https://kostat.go.kr/boardDownload.es?bid=210&list_no=427742&seq=3\n",
      "https://kostat.go.kr/boardDownload.es?bid=210&list_no=427742&seq=4\n",
      "https://kostat.go.kr/boardDownload.es?bid=216&list_no=427719&seq=1\n",
      "https://kostat.go.kr/boardDownload.es?bid=11825&list_no=427667&seq=3\n",
      "https://kostat.go.kr/boardDownload.es?bid=11816&list_no=427645&seq=5\n",
      "https://kostat.go.kr/boardDownload.es?bid=229&list_no=427634&seq=6\n",
      "https://kostat.go.kr/boardDownload.es?bid=205&list_no=427638&seq=3\n",
      "https://kostat.go.kr/boardDownload.es?bid=204&list_no=427628&seq=3\n"
     ]
    }
   ],
   "source": [
    "pdf_list = []\n",
    "for link in pdf_link_list:\n",
    "    pdf = link.get_attribute('href')\n",
    "    pdf_list.append(pdf)"
   ]
  },
  {
   "cell_type": "code",
   "execution_count": 46,
   "metadata": {},
   "outputs": [],
   "source": [
    "pagination_list = driver.find_element(By.XPATH, '//div[@class=\"paging mg_t24\"]').find_elements(By.TAG_NAME, 'a')\n"
   ]
  },
  {
   "cell_type": "code",
   "execution_count": 60,
   "metadata": {},
   "outputs": [
    {
     "ename": "NoSuchWindowException",
     "evalue": "Message: no such window: target window already closed\nfrom unknown error: web view not found\n  (Session info: chrome=119.0.6045.106)\nStacktrace:\n\tGetHandleVerifier [0x00007FF7C9E182B2+55298]\n\t(No symbol) [0x00007FF7C9D85E02]\n\t(No symbol) [0x00007FF7C9C405AB]\n\t(No symbol) [0x00007FF7C9C20038]\n\t(No symbol) [0x00007FF7C9CA6BC7]\n\t(No symbol) [0x00007FF7C9CBA15F]\n\t(No symbol) [0x00007FF7C9CA1E83]\n\t(No symbol) [0x00007FF7C9C7670A]\n\t(No symbol) [0x00007FF7C9C77964]\n\tGetHandleVerifier [0x00007FF7CA190AAB+3694587]\n\tGetHandleVerifier [0x00007FF7CA1E728E+4048862]\n\tGetHandleVerifier [0x00007FF7CA1DF173+4015811]\n\tGetHandleVerifier [0x00007FF7C9EB47D6+695590]\n\t(No symbol) [0x00007FF7C9D90CE8]\n\t(No symbol) [0x00007FF7C9D8CF34]\n\t(No symbol) [0x00007FF7C9D8D062]\n\t(No symbol) [0x00007FF7C9D7D3A3]\n\tBaseThreadInitThunk [0x00007FFE596C257D+29]\n\tRtlUserThreadStart [0x00007FFE5B32AA78+40]\n",
     "output_type": "error",
     "traceback": [
      "\u001b[1;31m---------------------------------------------------------------------------\u001b[0m",
      "\u001b[1;31mNoSuchWindowException\u001b[0m                     Traceback (most recent call last)",
      "\u001b[1;32mc:\\Users\\Alchera115\\wj.alchera\\Alchera\\Alchera\\11\\1108_db_crawling\\test.ipynb Cell 6\u001b[0m line \u001b[0;36m5\n\u001b[0;32m      <a href='vscode-notebook-cell:/c%3A/Users/Alchera115/wj.alchera/Alchera/Alchera/11/1108_db_crawling/test.ipynb#W5sZmlsZQ%3D%3D?line=2'>3</a>\u001b[0m \u001b[39mif\u001b[39;00m page_len \u001b[39m>\u001b[39m \u001b[39m11\u001b[39m:\n\u001b[0;32m      <a href='vscode-notebook-cell:/c%3A/Users/Alchera115/wj.alchera/Alchera/Alchera/11/1108_db_crawling/test.ipynb#W5sZmlsZQ%3D%3D?line=3'>4</a>\u001b[0m     \u001b[39mfor\u001b[39;00m i \u001b[39min\u001b[39;00m \u001b[39mrange\u001b[39m(\u001b[39m2\u001b[39m, \u001b[39m12\u001b[39m):\n\u001b[1;32m----> <a href='vscode-notebook-cell:/c%3A/Users/Alchera115/wj.alchera/Alchera/Alchera/11/1108_db_crawling/test.ipynb#W5sZmlsZQ%3D%3D?line=4'>5</a>\u001b[0m         pagination \u001b[39m=\u001b[39m driver\u001b[39m.\u001b[39;49mfind_element(By\u001b[39m.\u001b[39;49mXPATH, \u001b[39m'\u001b[39;49m\u001b[39m//div[@class=\u001b[39;49m\u001b[39m\"\u001b[39;49m\u001b[39mpaging mg_t24\u001b[39;49m\u001b[39m\"\u001b[39;49m\u001b[39m]\u001b[39;49m\u001b[39m'\u001b[39;49m)\u001b[39m.\u001b[39mfind_elements(By\u001b[39m.\u001b[39mTAG_NAME, \u001b[39m'\u001b[39m\u001b[39ma\u001b[39m\u001b[39m'\u001b[39m)\n\u001b[0;32m      <a href='vscode-notebook-cell:/c%3A/Users/Alchera115/wj.alchera/Alchera/Alchera/11/1108_db_crawling/test.ipynb#W5sZmlsZQ%3D%3D?line=5'>6</a>\u001b[0m         pagination[i]\u001b[39m.\u001b[39mclick()\n\u001b[0;32m      <a href='vscode-notebook-cell:/c%3A/Users/Alchera115/wj.alchera/Alchera/Alchera/11/1108_db_crawling/test.ipynb#W5sZmlsZQ%3D%3D?line=7'>8</a>\u001b[0m \u001b[39melif\u001b[39;00m page_len \u001b[39m==\u001b[39m \u001b[39m11\u001b[39m:\n",
      "File \u001b[1;32mc:\\Users\\Alchera115\\AppData\\Local\\Programs\\Python\\Python311\\Lib\\site-packages\\selenium\\webdriver\\remote\\webdriver.py:739\u001b[0m, in \u001b[0;36mWebDriver.find_element\u001b[1;34m(self, by, value)\u001b[0m\n\u001b[0;32m    736\u001b[0m     by \u001b[39m=\u001b[39m By\u001b[39m.\u001b[39mCSS_SELECTOR\n\u001b[0;32m    737\u001b[0m     value \u001b[39m=\u001b[39m \u001b[39mf\u001b[39m\u001b[39m'\u001b[39m\u001b[39m[name=\u001b[39m\u001b[39m\"\u001b[39m\u001b[39m{\u001b[39;00mvalue\u001b[39m}\u001b[39;00m\u001b[39m\"\u001b[39m\u001b[39m]\u001b[39m\u001b[39m'\u001b[39m\n\u001b[1;32m--> 739\u001b[0m \u001b[39mreturn\u001b[39;00m \u001b[39mself\u001b[39;49m\u001b[39m.\u001b[39;49mexecute(Command\u001b[39m.\u001b[39;49mFIND_ELEMENT, {\u001b[39m\"\u001b[39;49m\u001b[39musing\u001b[39;49m\u001b[39m\"\u001b[39;49m: by, \u001b[39m\"\u001b[39;49m\u001b[39mvalue\u001b[39;49m\u001b[39m\"\u001b[39;49m: value})[\u001b[39m\"\u001b[39m\u001b[39mvalue\u001b[39m\u001b[39m\"\u001b[39m]\n",
      "File \u001b[1;32mc:\\Users\\Alchera115\\AppData\\Local\\Programs\\Python\\Python311\\Lib\\site-packages\\selenium\\webdriver\\remote\\webdriver.py:345\u001b[0m, in \u001b[0;36mWebDriver.execute\u001b[1;34m(self, driver_command, params)\u001b[0m\n\u001b[0;32m    343\u001b[0m response \u001b[39m=\u001b[39m \u001b[39mself\u001b[39m\u001b[39m.\u001b[39mcommand_executor\u001b[39m.\u001b[39mexecute(driver_command, params)\n\u001b[0;32m    344\u001b[0m \u001b[39mif\u001b[39;00m response:\n\u001b[1;32m--> 345\u001b[0m     \u001b[39mself\u001b[39;49m\u001b[39m.\u001b[39;49merror_handler\u001b[39m.\u001b[39;49mcheck_response(response)\n\u001b[0;32m    346\u001b[0m     response[\u001b[39m\"\u001b[39m\u001b[39mvalue\u001b[39m\u001b[39m\"\u001b[39m] \u001b[39m=\u001b[39m \u001b[39mself\u001b[39m\u001b[39m.\u001b[39m_unwrap_value(response\u001b[39m.\u001b[39mget(\u001b[39m\"\u001b[39m\u001b[39mvalue\u001b[39m\u001b[39m\"\u001b[39m, \u001b[39mNone\u001b[39;00m))\n\u001b[0;32m    347\u001b[0m     \u001b[39mreturn\u001b[39;00m response\n",
      "File \u001b[1;32mc:\\Users\\Alchera115\\AppData\\Local\\Programs\\Python\\Python311\\Lib\\site-packages\\selenium\\webdriver\\remote\\errorhandler.py:229\u001b[0m, in \u001b[0;36mErrorHandler.check_response\u001b[1;34m(self, response)\u001b[0m\n\u001b[0;32m    227\u001b[0m         alert_text \u001b[39m=\u001b[39m value[\u001b[39m\"\u001b[39m\u001b[39malert\u001b[39m\u001b[39m\"\u001b[39m]\u001b[39m.\u001b[39mget(\u001b[39m\"\u001b[39m\u001b[39mtext\u001b[39m\u001b[39m\"\u001b[39m)\n\u001b[0;32m    228\u001b[0m     \u001b[39mraise\u001b[39;00m exception_class(message, screen, stacktrace, alert_text)  \u001b[39m# type: ignore[call-arg]  # mypy is not smart enough here\u001b[39;00m\n\u001b[1;32m--> 229\u001b[0m \u001b[39mraise\u001b[39;00m exception_class(message, screen, stacktrace)\n",
      "\u001b[1;31mNoSuchWindowException\u001b[0m: Message: no such window: target window already closed\nfrom unknown error: web view not found\n  (Session info: chrome=119.0.6045.106)\nStacktrace:\n\tGetHandleVerifier [0x00007FF7C9E182B2+55298]\n\t(No symbol) [0x00007FF7C9D85E02]\n\t(No symbol) [0x00007FF7C9C405AB]\n\t(No symbol) [0x00007FF7C9C20038]\n\t(No symbol) [0x00007FF7C9CA6BC7]\n\t(No symbol) [0x00007FF7C9CBA15F]\n\t(No symbol) [0x00007FF7C9CA1E83]\n\t(No symbol) [0x00007FF7C9C7670A]\n\t(No symbol) [0x00007FF7C9C77964]\n\tGetHandleVerifier [0x00007FF7CA190AAB+3694587]\n\tGetHandleVerifier [0x00007FF7CA1E728E+4048862]\n\tGetHandleVerifier [0x00007FF7CA1DF173+4015811]\n\tGetHandleVerifier [0x00007FF7C9EB47D6+695590]\n\t(No symbol) [0x00007FF7C9D90CE8]\n\t(No symbol) [0x00007FF7C9D8CF34]\n\t(No symbol) [0x00007FF7C9D8D062]\n\t(No symbol) [0x00007FF7C9D7D3A3]\n\tBaseThreadInitThunk [0x00007FFE596C257D+29]\n\tRtlUserThreadStart [0x00007FFE5B32AA78+40]\n"
     ]
    }
   ],
   "source": [
    "while True:\n",
    "    page_len = len(driver.find_element(By.XPATH, '//div[@class=\"paging mg_t24\"]').find_elements(By.TAG_NAME, 'a'))\n",
    "    if page_len > 11:\n",
    "        for i in range(2, 12):\n",
    "            pagination = driver.find_element(By.XPATH, '//div[@class=\"paging mg_t24\"]').find_elements(By.TAG_NAME, 'a')\n",
    "            pagination[i].click()\n",
    "            \n",
    "    elif page_len == 11:\n",
    "        for i in range(10):\n",
    "            pagination = driver.find_element(By.XPATH, '//div[@class=\"paging mg_t24\"]').find_elements(By.TAG_NAME, 'a')\n",
    "            pagination[i].click()\n",
    "\n",
    "    elif page_len < 11:\n",
    "        break"
   ]
  },
  {
   "cell_type": "code",
   "execution_count": 61,
   "metadata": {},
   "outputs": [],
   "source": [
    "link = [\"https://kostat.go.kr/boardDownload.es?bid=219&list_no=427913&seq=2\",\n",
    "\"https://kostat.go.kr/boardDownload.es?bid=241&list_no=427828&seq=1\"]"
   ]
  },
  {
   "cell_type": "code",
   "execution_count": 64,
   "metadata": {},
   "outputs": [],
   "source": [
    "import time\n",
    "driver = webdriver.Chrome()\n",
    "for i in link:\n",
    "    time.sleep(10)\n",
    "    driver.get(i)"
   ]
  },
  {
   "cell_type": "code",
   "execution_count": null,
   "metadata": {},
   "outputs": [],
   "source": []
  }
 ],
 "metadata": {
  "kernelspec": {
   "display_name": "Python 3",
   "language": "python",
   "name": "python3"
  },
  "language_info": {
   "codemirror_mode": {
    "name": "ipython",
    "version": 3
   },
   "file_extension": ".py",
   "mimetype": "text/x-python",
   "name": "python",
   "nbconvert_exporter": "python",
   "pygments_lexer": "ipython3",
   "version": "3.11.3"
  }
 },
 "nbformat": 4,
 "nbformat_minor": 2
}
