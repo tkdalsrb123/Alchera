{
 "cells": [
  {
   "cell_type": "code",
   "execution_count": 1,
   "metadata": {},
   "outputs": [],
   "source": [
    "import sys\n",
    "import pandas as pd\n",
    "from selenium import webdriver\n",
    "from selenium.webdriver.common.by import By\n",
    "from selenium.webdriver.common.keys import Keys\n",
    "from selenium.webdriver.support.ui import WebDriverWait\n",
    "from selenium.webdriver.support import expected_conditions as EC\n",
    "import time"
   ]
  },
  {
   "cell_type": "code",
   "execution_count": 2,
   "metadata": {},
   "outputs": [],
   "source": [
    "def login(driver, id, pw):\n",
    "    input_id = driver.find_element(By.XPATH, '//input[@name=\"email\"]')\n",
    "    input_pw = driver.find_element(By.XPATH, '//input[@name=\"password\"]')\n",
    "    input_id.send_keys(id)\n",
    "    input_pw.send_keys(pw)\n",
    "    input_pw.send_keys(Keys.RETURN)"
   ]
  },
  {
   "cell_type": "code",
   "execution_count": 8,
   "metadata": {},
   "outputs": [
    {
     "ename": "SyntaxError",
     "evalue": "invalid syntax (2570968917.py, line 2)",
     "output_type": "error",
     "traceback": [
      "\u001b[1;36m  Cell \u001b[1;32mIn[8], line 2\u001b[1;36m\u001b[0m\n\u001b[1;33m    COMPANY_LINK =\u001b[0m\n\u001b[1;37m                   ^\u001b[0m\n\u001b[1;31mSyntaxError\u001b[0m\u001b[1;31m:\u001b[0m invalid syntax\n"
     ]
    }
   ],
   "source": [
    "LINK = \"https://www.rocketpunch.com/login\"\n",
    "USERID = 'joohyunghan1104@gmail.com'\n",
    "USERPW = 'qhrtlf123'"
   ]
  },
  {
   "cell_type": "code",
   "execution_count": 24,
   "metadata": {},
   "outputs": [],
   "source": [
    "driver = webdriver.Chrome()\n",
    "driver.get(LINK)"
   ]
  },
  {
   "cell_type": "code",
   "execution_count": 25,
   "metadata": {},
   "outputs": [],
   "source": [
    "login(driver, USERID, USERPW)"
   ]
  },
  {
   "cell_type": "code",
   "execution_count": 26,
   "metadata": {},
   "outputs": [],
   "source": [
    "\n",
    "COMPANY_LINK = f\"https://www.rocketpunch.com/companies/allsu\"\n",
    "driver.get(COMPANY_LINK)"
   ]
  },
  {
   "cell_type": "code",
   "execution_count": 27,
   "metadata": {},
   "outputs": [],
   "source": [
    "company_item = driver.find_elements(By.XPATH, '//div[@class=\"company item\"]')\n",
    "if company_item:\n",
    "    company = company_item[0]\n",
    "    company.click()\n"
   ]
  },
  {
   "cell_type": "code",
   "execution_count": 45,
   "metadata": {},
   "outputs": [
    {
     "name": "stdout",
     "output_type": "stream",
     "text": [
      "설립일\n",
      "2021-02-01 / 3년차\n",
      "-------------\n",
      "구성원\n",
      "1-10명 상세보기\n",
      "-------------\n",
      "투자유치\n",
      "누적 15억 7,000만 원 이상 상세보기\n",
      "-------------\n",
      "홈페이지\n",
      "http://allsu.co.kr\n",
      "-------------\n",
      "이메일\n",
      "allsu7@naver.com\n",
      "-------------\n",
      "전화번호\n",
      "032-682-8328\n",
      "-------------\n",
      "문의 담당자\n",
      "김성식\n",
      "기술이사(CTO)\n",
      "문의하기\n",
      "-------------\n",
      "병역대체\n",
      "해당없음\n",
      "-------------\n",
      "SNS\n",
      "\n",
      "-------------\n",
      "사무실\n",
      "사무실 경기도 부천시 소사구 옥길동 573-4 우성테크노파크I 6층 625호 (부광로 220)\n",
      "-------------\n"
     ]
    },
    {
     "ename": "NoSuchElementException",
     "evalue": "Message: no such element: Unable to locate element: {\"method\":\"css selector\",\"selector\":\".title\"}\n  (Session info: chrome=119.0.6045.125); For documentation on this error, please visit: https://www.selenium.dev/documentation/webdriver/troubleshooting/errors#no-such-element-exception\nStacktrace:\n\tGetHandleVerifier [0x00007FF6C8AB82B2+55298]\n\t(No symbol) [0x00007FF6C8A25E02]\n\t(No symbol) [0x00007FF6C88E05AB]\n\t(No symbol) [0x00007FF6C892175C]\n\t(No symbol) [0x00007FF6C89218DC]\n\t(No symbol) [0x00007FF6C891819C]\n\t(No symbol) [0x00007FF6C89420EF]\n\t(No symbol) [0x00007FF6C89180CF]\n\t(No symbol) [0x00007FF6C89422C0]\n\t(No symbol) [0x00007FF6C895AAA4]\n\t(No symbol) [0x00007FF6C8941E83]\n\t(No symbol) [0x00007FF6C891670A]\n\t(No symbol) [0x00007FF6C8917964]\n\tGetHandleVerifier [0x00007FF6C8E30AAB+3694587]\n\tGetHandleVerifier [0x00007FF6C8E8728E+4048862]\n\tGetHandleVerifier [0x00007FF6C8E7F173+4015811]\n\tGetHandleVerifier [0x00007FF6C8B547D6+695590]\n\t(No symbol) [0x00007FF6C8A30CE8]\n\t(No symbol) [0x00007FF6C8A2CF34]\n\t(No symbol) [0x00007FF6C8A2D062]\n\t(No symbol) [0x00007FF6C8A1D3A3]\n\tBaseThreadInitThunk [0x00007FFA6761257D+29]\n\tRtlUserThreadStart [0x00007FFA690EAA58+40]\n",
     "output_type": "error",
     "traceback": [
      "\u001b[1;31m---------------------------------------------------------------------------\u001b[0m",
      "\u001b[1;31mNoSuchElementException\u001b[0m                    Traceback (most recent call last)",
      "\u001b[1;32mc:\\Users\\Alchera115\\wj.alchera\\Alchera\\Alchera\\11\\1115_corp_info_crawling\\test.ipynb Cell 8\u001b[0m line \u001b[0;36m6\n\u001b[0;32m      <a href='vscode-notebook-cell:/c%3A/Users/Alchera115/wj.alchera/Alchera/Alchera/11/1115_corp_info_crawling/test.ipynb#X10sZmlsZQ%3D%3D?line=2'>3</a>\u001b[0m info_dict \u001b[39m=\u001b[39m {}\n\u001b[0;32m      <a href='vscode-notebook-cell:/c%3A/Users/Alchera115/wj.alchera/Alchera/Alchera/11/1115_corp_info_crawling/test.ipynb#X10sZmlsZQ%3D%3D?line=3'>4</a>\u001b[0m \u001b[39mfor\u001b[39;00m i \u001b[39min\u001b[39;00m item:\n\u001b[0;32m      <a href='vscode-notebook-cell:/c%3A/Users/Alchera115/wj.alchera/Alchera/Alchera/11/1115_corp_info_crawling/test.ipynb#X10sZmlsZQ%3D%3D?line=4'>5</a>\u001b[0m     \u001b[39m# try:\u001b[39;00m\n\u001b[1;32m----> <a href='vscode-notebook-cell:/c%3A/Users/Alchera115/wj.alchera/Alchera/Alchera/11/1115_corp_info_crawling/test.ipynb#X10sZmlsZQ%3D%3D?line=5'>6</a>\u001b[0m     a \u001b[39m=\u001b[39m i\u001b[39m.\u001b[39;49mfind_element(By\u001b[39m.\u001b[39;49mCLASS_NAME, \u001b[39m'\u001b[39;49m\u001b[39mtitle\u001b[39;49m\u001b[39m'\u001b[39;49m)\u001b[39m.\u001b[39mtext\n\u001b[0;32m      <a href='vscode-notebook-cell:/c%3A/Users/Alchera115/wj.alchera/Alchera/Alchera/11/1115_corp_info_crawling/test.ipynb#X10sZmlsZQ%3D%3D?line=6'>7</a>\u001b[0m     b \u001b[39m=\u001b[39m i\u001b[39m.\u001b[39mfind_element(By\u001b[39m.\u001b[39mCLASS_NAME, \u001b[39m'\u001b[39m\u001b[39mcontent\u001b[39m\u001b[39m'\u001b[39m)\u001b[39m.\u001b[39mtext\n\u001b[0;32m      <a href='vscode-notebook-cell:/c%3A/Users/Alchera115/wj.alchera/Alchera/Alchera/11/1115_corp_info_crawling/test.ipynb#X10sZmlsZQ%3D%3D?line=7'>8</a>\u001b[0m     info_dict[a] \u001b[39m=\u001b[39m b\n",
      "File \u001b[1;32mc:\\Users\\Alchera115\\AppData\\Local\\Programs\\Python\\Python311\\Lib\\site-packages\\selenium\\webdriver\\remote\\webelement.py:417\u001b[0m, in \u001b[0;36mWebElement.find_element\u001b[1;34m(self, by, value)\u001b[0m\n\u001b[0;32m    414\u001b[0m     by \u001b[39m=\u001b[39m By\u001b[39m.\u001b[39mCSS_SELECTOR\n\u001b[0;32m    415\u001b[0m     value \u001b[39m=\u001b[39m \u001b[39mf\u001b[39m\u001b[39m'\u001b[39m\u001b[39m[name=\u001b[39m\u001b[39m\"\u001b[39m\u001b[39m{\u001b[39;00mvalue\u001b[39m}\u001b[39;00m\u001b[39m\"\u001b[39m\u001b[39m]\u001b[39m\u001b[39m'\u001b[39m\n\u001b[1;32m--> 417\u001b[0m \u001b[39mreturn\u001b[39;00m \u001b[39mself\u001b[39;49m\u001b[39m.\u001b[39;49m_execute(Command\u001b[39m.\u001b[39;49mFIND_CHILD_ELEMENT, {\u001b[39m\"\u001b[39;49m\u001b[39musing\u001b[39;49m\u001b[39m\"\u001b[39;49m: by, \u001b[39m\"\u001b[39;49m\u001b[39mvalue\u001b[39;49m\u001b[39m\"\u001b[39;49m: value})[\u001b[39m\"\u001b[39m\u001b[39mvalue\u001b[39m\u001b[39m\"\u001b[39m]\n",
      "File \u001b[1;32mc:\\Users\\Alchera115\\AppData\\Local\\Programs\\Python\\Python311\\Lib\\site-packages\\selenium\\webdriver\\remote\\webelement.py:395\u001b[0m, in \u001b[0;36mWebElement._execute\u001b[1;34m(self, command, params)\u001b[0m\n\u001b[0;32m    393\u001b[0m     params \u001b[39m=\u001b[39m {}\n\u001b[0;32m    394\u001b[0m params[\u001b[39m\"\u001b[39m\u001b[39mid\u001b[39m\u001b[39m\"\u001b[39m] \u001b[39m=\u001b[39m \u001b[39mself\u001b[39m\u001b[39m.\u001b[39m_id\n\u001b[1;32m--> 395\u001b[0m \u001b[39mreturn\u001b[39;00m \u001b[39mself\u001b[39;49m\u001b[39m.\u001b[39;49m_parent\u001b[39m.\u001b[39;49mexecute(command, params)\n",
      "File \u001b[1;32mc:\\Users\\Alchera115\\AppData\\Local\\Programs\\Python\\Python311\\Lib\\site-packages\\selenium\\webdriver\\remote\\webdriver.py:345\u001b[0m, in \u001b[0;36mWebDriver.execute\u001b[1;34m(self, driver_command, params)\u001b[0m\n\u001b[0;32m    343\u001b[0m response \u001b[39m=\u001b[39m \u001b[39mself\u001b[39m\u001b[39m.\u001b[39mcommand_executor\u001b[39m.\u001b[39mexecute(driver_command, params)\n\u001b[0;32m    344\u001b[0m \u001b[39mif\u001b[39;00m response:\n\u001b[1;32m--> 345\u001b[0m     \u001b[39mself\u001b[39;49m\u001b[39m.\u001b[39;49merror_handler\u001b[39m.\u001b[39;49mcheck_response(response)\n\u001b[0;32m    346\u001b[0m     response[\u001b[39m\"\u001b[39m\u001b[39mvalue\u001b[39m\u001b[39m\"\u001b[39m] \u001b[39m=\u001b[39m \u001b[39mself\u001b[39m\u001b[39m.\u001b[39m_unwrap_value(response\u001b[39m.\u001b[39mget(\u001b[39m\"\u001b[39m\u001b[39mvalue\u001b[39m\u001b[39m\"\u001b[39m, \u001b[39mNone\u001b[39;00m))\n\u001b[0;32m    347\u001b[0m     \u001b[39mreturn\u001b[39;00m response\n",
      "File \u001b[1;32mc:\\Users\\Alchera115\\AppData\\Local\\Programs\\Python\\Python311\\Lib\\site-packages\\selenium\\webdriver\\remote\\errorhandler.py:229\u001b[0m, in \u001b[0;36mErrorHandler.check_response\u001b[1;34m(self, response)\u001b[0m\n\u001b[0;32m    227\u001b[0m         alert_text \u001b[39m=\u001b[39m value[\u001b[39m\"\u001b[39m\u001b[39malert\u001b[39m\u001b[39m\"\u001b[39m]\u001b[39m.\u001b[39mget(\u001b[39m\"\u001b[39m\u001b[39mtext\u001b[39m\u001b[39m\"\u001b[39m)\n\u001b[0;32m    228\u001b[0m     \u001b[39mraise\u001b[39;00m exception_class(message, screen, stacktrace, alert_text)  \u001b[39m# type: ignore[call-arg]  # mypy is not smart enough here\u001b[39;00m\n\u001b[1;32m--> 229\u001b[0m \u001b[39mraise\u001b[39;00m exception_class(message, screen, stacktrace)\n",
      "\u001b[1;31mNoSuchElementException\u001b[0m: Message: no such element: Unable to locate element: {\"method\":\"css selector\",\"selector\":\".title\"}\n  (Session info: chrome=119.0.6045.125); For documentation on this error, please visit: https://www.selenium.dev/documentation/webdriver/troubleshooting/errors#no-such-element-exception\nStacktrace:\n\tGetHandleVerifier [0x00007FF6C8AB82B2+55298]\n\t(No symbol) [0x00007FF6C8A25E02]\n\t(No symbol) [0x00007FF6C88E05AB]\n\t(No symbol) [0x00007FF6C892175C]\n\t(No symbol) [0x00007FF6C89218DC]\n\t(No symbol) [0x00007FF6C891819C]\n\t(No symbol) [0x00007FF6C89420EF]\n\t(No symbol) [0x00007FF6C89180CF]\n\t(No symbol) [0x00007FF6C89422C0]\n\t(No symbol) [0x00007FF6C895AAA4]\n\t(No symbol) [0x00007FF6C8941E83]\n\t(No symbol) [0x00007FF6C891670A]\n\t(No symbol) [0x00007FF6C8917964]\n\tGetHandleVerifier [0x00007FF6C8E30AAB+3694587]\n\tGetHandleVerifier [0x00007FF6C8E8728E+4048862]\n\tGetHandleVerifier [0x00007FF6C8E7F173+4015811]\n\tGetHandleVerifier [0x00007FF6C8B547D6+695590]\n\t(No symbol) [0x00007FF6C8A30CE8]\n\t(No symbol) [0x00007FF6C8A2CF34]\n\t(No symbol) [0x00007FF6C8A2D062]\n\t(No symbol) [0x00007FF6C8A1D3A3]\n\tBaseThreadInitThunk [0x00007FFA6761257D+29]\n\tRtlUserThreadStart [0x00007FFA690EAA58+40]\n"
     ]
    }
   ],
   "source": [
    "company_info = driver.find_element(By.XPATH, '//div[@class=\"ui company info items\"]')\n",
    "item = company_info.find_elements(By.CLASS_NAME, 'item')\n",
    "info_dict = {}\n",
    "for i in item:\n",
    "    try:\n",
    "        a = i.find_element(By.CLASS_NAME, 'title').text\n",
    "        b = i.find_element(By.CLASS_NAME, 'content').text\n",
    "        info_dict[a] = b\n",
    "        print(a)\n",
    "        print(b)\n",
    "        print('-------------')\n",
    "    except:\n",
    "        print('0sdfsdf')\n",
    "        print(i.text)\n",
    "# company_info_split = company_info.text.split('\\n')\n",
    "# info_dict = {}\n",
    "# for i in range(0, len(company_info_split), 2):\n",
    "#     try:\n",
    "#         info_dict[company_info_split[i]] = company_info_split[i+1]\n",
    "#     except:\n",
    "#         print(company_info_split[i])\n",
    "print(info_dict)\n"
   ]
  }
 ],
 "metadata": {
  "kernelspec": {
   "display_name": "Python 3",
   "language": "python",
   "name": "python3"
  },
  "language_info": {
   "codemirror_mode": {
    "name": "ipython",
    "version": 3
   },
   "file_extension": ".py",
   "mimetype": "text/x-python",
   "name": "python",
   "nbconvert_exporter": "python",
   "pygments_lexer": "ipython3",
   "version": "3.11.3"
  }
 },
 "nbformat": 4,
 "nbformat_minor": 2
}
