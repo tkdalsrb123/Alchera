{
 "cells": [
  {
   "cell_type": "code",
   "execution_count": 1,
   "metadata": {},
   "outputs": [],
   "source": [
    "import pandas as pd\n",
    "from selenium import webdriver\n",
    "from selenium.webdriver.common.by import By\n",
    "from selenium.webdriver.common.keys import Keys\n",
    "from selenium.webdriver.support.ui import WebDriverWait\n",
    "from selenium.webdriver.support import expected_conditions as EC\n",
    "import time"
   ]
  },
  {
   "cell_type": "code",
   "execution_count": 2,
   "metadata": {},
   "outputs": [],
   "source": [
    "driver = webdriver.Chrome()"
   ]
  },
  {
   "cell_type": "code",
   "execution_count": 3,
   "metadata": {},
   "outputs": [],
   "source": [
    "link = \"https://www.albamon.com/jobs/part?page=1&sortType=DEFAULT&searchPeriodType=ALL&condition=%7B%22condition%22%3A%7B%22areas%22%3A%5B%5D%2C%22similarDongJoin%22%3Afalse%2C%22parts%22%3A%5B%7B%22categoryCode%22%3A%221000%22%2C%22code%22%3A%22%22%2C%22categoryName%22%3A%22%EC%99%B8%EC%8B%9D%C2%B7%EC%9D%8C%EB%A3%8C%22%2C%22name%22%3A%22%EC%99%B8%EC%8B%9D%C2%B7%EC%9D%8C%EB%A3%8C%22%7D%5D%2C%22workPeriodTypes%22%3A%5B%22ONE_MONTH_TO_THREE_MONTH%22%2C%22THREE_MONTH_TO_SIX_MONTH%22%5D%2C%22workWeekTypes%22%3A%5B%5D%2C%22workDayTypes%22%3A%5B%5D%2C%22workTimeTypes%22%3A%5B%5D%2C%22excludeNegoAge%22%3Afalse%2C%22employmentTypes%22%3A%5B%5D%2C%22excludeKeywords%22%3A%5B%5D%7D%2C%22extensionCondition%22%3A%7B%22area%22%3A%7B%7D%2C%22brand%22%3A%7B%7D%2C%22franchise%22%3A%7B%7D%2C%22franchiseStore%22%3A%7B%7D%2C%22callCenter%22%3A%7B%7D%2C%22guerrilla%22%3A%7B%7D%2C%22map%22%3A%7B%22radius%22%3A120%2C%22zoom%22%3A0%7D%2C%22miniJob%22%3A%7B%7D%2C%22ongoing%22%3A%7B%7D%2C%22part%22%3A%7B%22selectedPart%22%3A%7B%22categoryCode%22%3A%22%22%2C%22code%22%3A%22%22%7D%7D%2C%22pay%22%3A%7B%7D%2C%22preference%22%3A%7B%7D%2C%22recent%22%3A%7B%7D%2C%22scrap%22%3A%7B%7D%2C%22search%22%3A%7B%22disableExceptedConditions%22%3A%5B%5D%2C%22suitBannerNo%22%3A0%7D%2C%22season%22%3A%7B%7D%2C%22senior%22%3A%7B%7D%2C%22shortTerm%22%3A%7B%7D%2C%22specUp%22%3A%7B%7D%2C%22subway%22%3A%7B%7D%2C%22suit%22%3A%7B%7D%2C%22teenager%22%3A%7B%7D%2C%22town%22%3A%7B%22similarDongJoin%22%3Afalse%7D%2C%22trust%22%3A%7B%7D%2C%22university%22%3A%7B%7D%2C%22welfare%22%3A%7B%7D%7D%7D\"\n",
    "driver.get(link)"
   ]
  },
  {
   "cell_type": "code",
   "execution_count": 8,
   "metadata": {},
   "outputs": [
    {
     "data": {
      "text/plain": [
       "<selenium.webdriver.remote.webelement.WebElement (session=\"fc978a7ecbe8aec4181c9b57f2c123fa\", element=\"F54081E40FB4FB0386FA37BC74405089_element_3659\")>"
      ]
     },
     "execution_count": 8,
     "metadata": {},
     "output_type": "execute_result"
    }
   ],
   "source": [
    "recruit_list = driver.find_element(By.XPATH, '//div[@class=\"SimpleRecruitList_simple-recruit-list__AqJ2u recruit-list-template__base-list\"]').find_elements(By.XPATH, '//a[@class=\"list-item-recruit__contents list-item-recruit__contents--article\"]')\n",
    "for i in recruit_list:\n",
    "    print(i.get_attribute(''))"
   ]
  },
  {
   "cell_type": "code",
   "execution_count": null,
   "metadata": {},
   "outputs": [],
   "source": []
  }
 ],
 "metadata": {
  "kernelspec": {
   "display_name": "Python 3",
   "language": "python",
   "name": "python3"
  },
  "language_info": {
   "codemirror_mode": {
    "name": "ipython",
    "version": 3
   },
   "file_extension": ".py",
   "mimetype": "text/x-python",
   "name": "python",
   "nbconvert_exporter": "python",
   "pygments_lexer": "ipython3",
   "version": "3.11.3"
  }
 },
 "nbformat": 4,
 "nbformat_minor": 2
}
