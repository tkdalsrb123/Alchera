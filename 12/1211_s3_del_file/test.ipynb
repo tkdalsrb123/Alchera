{
 "cells": [
  {
   "cell_type": "code",
   "execution_count": 1,
   "metadata": {},
   "outputs": [],
   "source": [
    "import sys\n",
    "import time\n",
    "from selenium import webdriver\n",
    "from selenium.webdriver.common.by import By\n",
    "from selenium.webdriver.common.keys import Keys"
   ]
  },
  {
   "cell_type": "code",
   "execution_count": 31,
   "metadata": {},
   "outputs": [],
   "source": [
    "LOGIN_URL = 'https://s3.console.aws.amazon.com/s3/buckets/alchera-label-socket?region=ap-northeast-2&tab=objects'\n",
    "USERID =  'baithings'\n",
    "USERNAME = 's3_worker'\n",
    "PASSWORD =  '78ryL8#q'\n",
    "\n",
    "driver = webdriver.Chrome()\n",
    "driver.get(LOGIN_URL)\n",
    "\n",
    "IAM_button = driver.find_element(By.XPATH, \"//input[@id='iam_user_radio_button']\")\n",
    "IAM_button.click()\n",
    "\n",
    "# login s3\n",
    "id = driver.find_element(By.XPATH, \"//input[@id='resolving_input']\")\n",
    "next_button = driver.find_element(By.XPATH, \"//button[@id='next_button']\")\n",
    "id.send_keys(USERID)\n",
    "next_button.click()\n",
    "name = driver.find_element(By.XPATH, \"//input[@id='username']\")\n",
    "pw = driver.find_element(By.XPATH, \"//input[@id='password']\")\n",
    "name.send_keys(USERNAME)\n",
    "pw.send_keys(PASSWORD)\n",
    "pw.send_keys(Keys.RETURN)"
   ]
  },
  {
   "cell_type": "code",
   "execution_count": 32,
   "metadata": {},
   "outputs": [],
   "source": [
    "time.sleep(3)\n",
    "BUCKET = '20231009_e87a1139-3f60-4d'\n",
    "bucket_input = driver.find_element(By.XPATH, '//input[@id=\"polaris-table-formfield-filter\"]')\n",
    "bucket_input.send_keys(BUCKET)\n",
    "bucket_input.send_keys(Keys.RETURN)\n",
    "time.sleep(1)"
   ]
  },
  {
   "cell_type": "code",
   "execution_count": 33,
   "metadata": {},
   "outputs": [
    {
     "name": "stdout",
     "output_type": "stream",
     "text": [
      "활성화\n"
     ]
    }
   ],
   "source": [
    "check = driver.find_element(By.XPATH, '//span[@class=\"awsui_control_1wepg_12w0t_151 awsui_checkbox-control_k2y2q_10kux_107\"]')\n",
    "del_button = driver.find_element(By.XPATH, '//button[@data-testid=\"delete-objects-button\"]')\n",
    "check.click()\n",
    "if del_button.is_enabled():\n",
    "    del_button.click()\n",
    "    print('활성화')"
   ]
  },
  {
   "cell_type": "code",
   "execution_count": 35,
   "metadata": {},
   "outputs": [],
   "source": [
    "del_input = driver.find_element(By.XPATH, '//input[@class=\"awsui_input_2rhyz_7lwtk_97\"]')\n",
    "del_input.send_keys('삭제')\n",
    "# real_del_button = driver.find_element(By.XPATH, '//awsui-button[@class=\"delete-objects__actions-submit\"]')\n",
    "# real_del_button.click()\n"
   ]
  },
  {
   "cell_type": "code",
   "execution_count": null,
   "metadata": {},
   "outputs": [],
   "source": [
    "S3_URL = 'https://s3.console.aws.amazon.com/s3/buckets/alchera-label-socket?region=ap-northeast-2&tab=objects'\n",
    "driver.get(S3_URL)\n"
   ]
  }
 ],
 "metadata": {
  "kernelspec": {
   "display_name": "Python 3",
   "language": "python",
   "name": "python3"
  },
  "language_info": {
   "codemirror_mode": {
    "name": "ipython",
    "version": 3
   },
   "file_extension": ".py",
   "mimetype": "text/x-python",
   "name": "python",
   "nbconvert_exporter": "python",
   "pygments_lexer": "ipython3",
   "version": "3.11.3"
  }
 },
 "nbformat": 4,
 "nbformat_minor": 2
}
