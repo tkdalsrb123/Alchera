{
 "cells": [
  {
   "cell_type": "code",
   "execution_count": 1,
   "metadata": {},
   "outputs": [],
   "source": [
    "import sys\n",
    "import time\n",
    "from selenium import webdriver\n",
    "from selenium.webdriver.common.by import By\n",
    "from selenium.webdriver.common.keys import Keys"
   ]
  },
  {
   "cell_type": "code",
   "execution_count": 31,
   "metadata": {},
   "outputs": [],
   "source": [
    "LOGIN_URL = 'https://s3.console.aws.amazon.com/s3/buckets/alchera-label-socket?region=ap-northeast-2&tab=objects'\n",
    "USERID =  'baithings'\n",
    "USERNAME = 's3_worker'\n",
    "PASSWORD =  '78ryL8#q'\n",
    "\n",
    "driver = webdriver.Chrome()\n",
    "driver.get(LOGIN_URL)\n",
    "\n",
    "IAM_button = driver.find_element(By.XPATH, \"//input[@id='iam_user_radio_button']\")\n",
    "IAM_button.click()\n",
    "\n",
    "# login s3\n",
    "id = driver.find_element(By.XPATH, \"//input[@id='resolving_input']\")\n",
    "next_button = driver.find_element(By.XPATH, \"//button[@id='next_button']\")\n",
    "id.send_keys(USERID)\n",
    "next_button.click()\n",
    "name = driver.find_element(By.XPATH, \"//input[@id='username']\")\n",
    "pw = driver.find_element(By.XPATH, \"//input[@id='password']\")\n",
    "name.send_keys(USERNAME)\n",
    "pw.send_keys(PASSWORD)\n",
    "pw.send_keys(Keys.RETURN)"
   ]
  },
  {
   "cell_type": "code",
   "execution_count": 32,
   "metadata": {},
   "outputs": [],
   "source": [
    "time.sleep(3)\n",
    "BUCKET = '20231009_e87a1139-3f60-4d'\n",
    "bucket_input = driver.find_element(By.XPATH, '//input[@id=\"polaris-table-formfield-filter\"]')\n",
    "bucket_input.send_keys(BUCKET)\n",
    "bucket_input.send_keys(Keys.RETURN)\n",
    "time.sleep(1)"
   ]
  },
  {
   "cell_type": "code",
   "execution_count": 33,
   "metadata": {},
   "outputs": [
    {
     "name": "stdout",
     "output_type": "stream",
     "text": [
      "활성화\n"
     ]
    }
   ],
   "source": [
    "check = driver.find_element(By.XPATH, '//span[@class=\"awsui_control_1wepg_12w0t_151 awsui_checkbox-control_k2y2q_10kux_107\"]')\n",
    "del_button = driver.find_element(By.XPATH, '//button[@data-testid=\"delete-objects-button\"]')\n",
    "check.click()\n",
    "if del_button.is_enabled():\n",
    "    del_button.click()\n",
    "    print('활성화')"
   ]
  },
  {
   "cell_type": "code",
   "execution_count": 34,
   "metadata": {},
   "outputs": [
    {
     "ename": "NoSuchElementException",
     "evalue": "Message: no such element: Unable to locate element: {\"method\":\"xpath\",\"selector\":\"//input[@aria-labelledby=\"formField3253-1702275960246-8795-label\"]\"}\n  (Session info: chrome=120.0.6099.71); For documentation on this error, please visit: https://www.selenium.dev/documentation/webdriver/troubleshooting/errors#no-such-element-exception\nStacktrace:\n\tGetHandleVerifier [0x00007FF6A2BC4D02+56194]\n\t(No symbol) [0x00007FF6A2B304B2]\n\t(No symbol) [0x00007FF6A29D76AA]\n\t(No symbol) [0x00007FF6A2A216D0]\n\t(No symbol) [0x00007FF6A2A217EC]\n\t(No symbol) [0x00007FF6A2A64D77]\n\t(No symbol) [0x00007FF6A2A45EBF]\n\t(No symbol) [0x00007FF6A2A62786]\n\t(No symbol) [0x00007FF6A2A45C23]\n\t(No symbol) [0x00007FF6A2A14A45]\n\t(No symbol) [0x00007FF6A2A15AD4]\n\tGetHandleVerifier [0x00007FF6A2F3D5BB+3695675]\n\tGetHandleVerifier [0x00007FF6A2F96197+4059159]\n\tGetHandleVerifier [0x00007FF6A2F8DF63+4025827]\n\tGetHandleVerifier [0x00007FF6A2C5F029+687785]\n\t(No symbol) [0x00007FF6A2B3B508]\n\t(No symbol) [0x00007FF6A2B37564]\n\t(No symbol) [0x00007FF6A2B376E9]\n\t(No symbol) [0x00007FF6A2B28094]\n\tBaseThreadInitThunk [0x00007FF8FE8B257D+29]\n\tRtlUserThreadStart [0x00007FF8FF38AA58+40]\n",
     "output_type": "error",
     "traceback": [
      "\u001b[1;31m---------------------------------------------------------------------------\u001b[0m",
      "\u001b[1;31mNoSuchElementException\u001b[0m                    Traceback (most recent call last)",
      "\u001b[1;32mc:\\Users\\Alchera115\\wj.alchera\\Alchera\\Alchera\\12\\1211_s3_del_file\\test.ipynb Cell 5\u001b[0m line \u001b[0;36m1\n\u001b[1;32m----> <a href='vscode-notebook-cell:/c%3A/Users/Alchera115/wj.alchera/Alchera/Alchera/12/1211_s3_del_file/test.ipynb#W6sZmlsZQ%3D%3D?line=0'>1</a>\u001b[0m del_input \u001b[39m=\u001b[39m driver\u001b[39m.\u001b[39;49mfind_element(By\u001b[39m.\u001b[39;49mXPATH, \u001b[39m'\u001b[39;49m\u001b[39m//input[@aria-labelledby=\u001b[39;49m\u001b[39m\"\u001b[39;49m\u001b[39mformField3253-1702275960246-8795-label\u001b[39;49m\u001b[39m\"\u001b[39;49m\u001b[39m]\u001b[39;49m\u001b[39m'\u001b[39;49m)\n\u001b[0;32m      <a href='vscode-notebook-cell:/c%3A/Users/Alchera115/wj.alchera/Alchera/Alchera/12/1211_s3_del_file/test.ipynb#W6sZmlsZQ%3D%3D?line=1'>2</a>\u001b[0m del_input\u001b[39m.\u001b[39msend_keys(\u001b[39m'\u001b[39m\u001b[39m삭제\u001b[39m\u001b[39m'\u001b[39m)\n\u001b[0;32m      <a href='vscode-notebook-cell:/c%3A/Users/Alchera115/wj.alchera/Alchera/Alchera/12/1211_s3_del_file/test.ipynb#W6sZmlsZQ%3D%3D?line=2'>3</a>\u001b[0m \u001b[39m# real_del_button = driver.find_element(By.XPATH, '//awsui-button[@class=\"delete-objects__actions-submit\"]')\u001b[39;00m\n\u001b[0;32m      <a href='vscode-notebook-cell:/c%3A/Users/Alchera115/wj.alchera/Alchera/Alchera/12/1211_s3_del_file/test.ipynb#W6sZmlsZQ%3D%3D?line=3'>4</a>\u001b[0m \u001b[39m# real_del_button.click()\u001b[39;00m\n",
      "File \u001b[1;32mc:\\Users\\Alchera115\\AppData\\Local\\Programs\\Python\\Python311\\Lib\\site-packages\\selenium\\webdriver\\remote\\webdriver.py:739\u001b[0m, in \u001b[0;36mWebDriver.find_element\u001b[1;34m(self, by, value)\u001b[0m\n\u001b[0;32m    736\u001b[0m     by \u001b[39m=\u001b[39m By\u001b[39m.\u001b[39mCSS_SELECTOR\n\u001b[0;32m    737\u001b[0m     value \u001b[39m=\u001b[39m \u001b[39mf\u001b[39m\u001b[39m'\u001b[39m\u001b[39m[name=\u001b[39m\u001b[39m\"\u001b[39m\u001b[39m{\u001b[39;00mvalue\u001b[39m}\u001b[39;00m\u001b[39m\"\u001b[39m\u001b[39m]\u001b[39m\u001b[39m'\u001b[39m\n\u001b[1;32m--> 739\u001b[0m \u001b[39mreturn\u001b[39;00m \u001b[39mself\u001b[39;49m\u001b[39m.\u001b[39;49mexecute(Command\u001b[39m.\u001b[39;49mFIND_ELEMENT, {\u001b[39m\"\u001b[39;49m\u001b[39musing\u001b[39;49m\u001b[39m\"\u001b[39;49m: by, \u001b[39m\"\u001b[39;49m\u001b[39mvalue\u001b[39;49m\u001b[39m\"\u001b[39;49m: value})[\u001b[39m\"\u001b[39m\u001b[39mvalue\u001b[39m\u001b[39m\"\u001b[39m]\n",
      "File \u001b[1;32mc:\\Users\\Alchera115\\AppData\\Local\\Programs\\Python\\Python311\\Lib\\site-packages\\selenium\\webdriver\\remote\\webdriver.py:345\u001b[0m, in \u001b[0;36mWebDriver.execute\u001b[1;34m(self, driver_command, params)\u001b[0m\n\u001b[0;32m    343\u001b[0m response \u001b[39m=\u001b[39m \u001b[39mself\u001b[39m\u001b[39m.\u001b[39mcommand_executor\u001b[39m.\u001b[39mexecute(driver_command, params)\n\u001b[0;32m    344\u001b[0m \u001b[39mif\u001b[39;00m response:\n\u001b[1;32m--> 345\u001b[0m     \u001b[39mself\u001b[39;49m\u001b[39m.\u001b[39;49merror_handler\u001b[39m.\u001b[39;49mcheck_response(response)\n\u001b[0;32m    346\u001b[0m     response[\u001b[39m\"\u001b[39m\u001b[39mvalue\u001b[39m\u001b[39m\"\u001b[39m] \u001b[39m=\u001b[39m \u001b[39mself\u001b[39m\u001b[39m.\u001b[39m_unwrap_value(response\u001b[39m.\u001b[39mget(\u001b[39m\"\u001b[39m\u001b[39mvalue\u001b[39m\u001b[39m\"\u001b[39m, \u001b[39mNone\u001b[39;00m))\n\u001b[0;32m    347\u001b[0m     \u001b[39mreturn\u001b[39;00m response\n",
      "File \u001b[1;32mc:\\Users\\Alchera115\\AppData\\Local\\Programs\\Python\\Python311\\Lib\\site-packages\\selenium\\webdriver\\remote\\errorhandler.py:229\u001b[0m, in \u001b[0;36mErrorHandler.check_response\u001b[1;34m(self, response)\u001b[0m\n\u001b[0;32m    227\u001b[0m         alert_text \u001b[39m=\u001b[39m value[\u001b[39m\"\u001b[39m\u001b[39malert\u001b[39m\u001b[39m\"\u001b[39m]\u001b[39m.\u001b[39mget(\u001b[39m\"\u001b[39m\u001b[39mtext\u001b[39m\u001b[39m\"\u001b[39m)\n\u001b[0;32m    228\u001b[0m     \u001b[39mraise\u001b[39;00m exception_class(message, screen, stacktrace, alert_text)  \u001b[39m# type: ignore[call-arg]  # mypy is not smart enough here\u001b[39;00m\n\u001b[1;32m--> 229\u001b[0m \u001b[39mraise\u001b[39;00m exception_class(message, screen, stacktrace)\n",
      "\u001b[1;31mNoSuchElementException\u001b[0m: Message: no such element: Unable to locate element: {\"method\":\"xpath\",\"selector\":\"//input[@aria-labelledby=\"formField3253-1702275960246-8795-label\"]\"}\n  (Session info: chrome=120.0.6099.71); For documentation on this error, please visit: https://www.selenium.dev/documentation/webdriver/troubleshooting/errors#no-such-element-exception\nStacktrace:\n\tGetHandleVerifier [0x00007FF6A2BC4D02+56194]\n\t(No symbol) [0x00007FF6A2B304B2]\n\t(No symbol) [0x00007FF6A29D76AA]\n\t(No symbol) [0x00007FF6A2A216D0]\n\t(No symbol) [0x00007FF6A2A217EC]\n\t(No symbol) [0x00007FF6A2A64D77]\n\t(No symbol) [0x00007FF6A2A45EBF]\n\t(No symbol) [0x00007FF6A2A62786]\n\t(No symbol) [0x00007FF6A2A45C23]\n\t(No symbol) [0x00007FF6A2A14A45]\n\t(No symbol) [0x00007FF6A2A15AD4]\n\tGetHandleVerifier [0x00007FF6A2F3D5BB+3695675]\n\tGetHandleVerifier [0x00007FF6A2F96197+4059159]\n\tGetHandleVerifier [0x00007FF6A2F8DF63+4025827]\n\tGetHandleVerifier [0x00007FF6A2C5F029+687785]\n\t(No symbol) [0x00007FF6A2B3B508]\n\t(No symbol) [0x00007FF6A2B37564]\n\t(No symbol) [0x00007FF6A2B376E9]\n\t(No symbol) [0x00007FF6A2B28094]\n\tBaseThreadInitThunk [0x00007FF8FE8B257D+29]\n\tRtlUserThreadStart [0x00007FF8FF38AA58+40]\n"
     ]
    }
   ],
   "source": [
    "del_input = driver.find_element(By.XPATH, '//input[@class=\"awsui_input_2rhyz_7lwtk_97\"]')\n",
    "del_input.send_keys('삭제')\n",
    "# real_del_button = driver.find_element(By.XPATH, '//awsui-button[@class=\"delete-objects__actions-submit\"]')\n",
    "# real_del_button.click()\n"
   ]
  },
  {
   "cell_type": "code",
   "execution_count": null,
   "metadata": {},
   "outputs": [],
   "source": [
    "S3_URL = 'https://s3.console.aws.amazon.com/s3/buckets/alchera-label-socket?region=ap-northeast-2&tab=objects'\n",
    "driver.get(S3_URL)\n"
   ]
  }
 ],
 "metadata": {
  "kernelspec": {
   "display_name": "Python 3",
   "language": "python",
   "name": "python3"
  },
  "language_info": {
   "codemirror_mode": {
    "name": "ipython",
    "version": 3
   },
   "file_extension": ".py",
   "mimetype": "text/x-python",
   "name": "python",
   "nbconvert_exporter": "python",
   "pygments_lexer": "ipython3",
   "version": "3.11.3"
  }
 },
 "nbformat": 4,
 "nbformat_minor": 2
}
